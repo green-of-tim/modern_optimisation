{
  "nbformat": 4,
  "nbformat_minor": 0,
  "metadata": {
    "colab": {
      "provenance": []
    },
    "kernelspec": {
      "name": "python3",
      "display_name": "Python 3"
    },
    "language_info": {
      "name": "python"
    }
  },
  "cells": [
    {
      "cell_type": "code",
      "execution_count": 1,
      "metadata": {
        "id": "wkq-jqfQGvEX"
      },
      "outputs": [],
      "source": [
        "import numpy as np\n",
        "import matplotlib.pyplot as plt"
      ]
    },
    {
      "cell_type": "code",
      "source": [
        "def f(A, x, b):\n",
        "  return np.linalg.norm(A @ x - b) ** 2\n",
        "\n",
        "def gradf(A, x, b):\n",
        "  return 2 * A.T @ (A @ x - b)\n",
        "\n",
        "def LMO(A, x, b, R):\n",
        "  s = np.zeros_like(x)\n",
        "  g = gradf(A, x, b)\n",
        "  g_ = np.absolute(g)\n",
        "  ind = np.nonzero(g_ == g_.max())[0][0]\n",
        "  # print(ind)\n",
        "  s[ind] = -np.sign(g[ind]) * R\n",
        "  return s \n",
        "\n",
        "def FrankWolfe(x0, A, b, lam, R, num_iter):\n",
        "  x = x0\n",
        "  L = np.real(np.linalg.eig(2 * A.T @ A)[0][0])\n",
        "  # hist = [np.linalg.norm(A @ x - b) ** 2 + lam * np.linalg.norm(x, 1)]\n",
        "  hist_res = [np.linalg.norm(A @ x - b) ** 2]\n",
        "  hist_norm = [np.linalg.norm(x, 1)]\n",
        "  for k in range(num_iter):\n",
        "    s = LMO(A, x, b, R)\n",
        "    gamma = 2 / (3 + k)\n",
        "    # gamma = np.minimum(np.dot(x - s, gradf(A, x, b)) / L / (np.linalg.norm(x - s) ** 2), 1)\n",
        "    # gamma = np.dot(A @ (s - x), b - A @ x) / (np.linalg.norm(A @ (s - x)) ** 2) \n",
        "    x = (1 - gamma) * x + gamma * s\n",
        "    # hist.append(np.linalg.norm(A @ x - b) ** 2 + lam * np.linalg.norm(x, 1))\n",
        "    hist_res.append(np.linalg.norm(A @ x - b) ** 2)\n",
        "    hist_norm.append(np.linalg.norm(x, 1))\n",
        "  return x, hist_res, hist_norm"
      ],
      "metadata": {
        "id": "cK0ExBaG2Udi"
      },
      "execution_count": 2,
      "outputs": []
    },
    {
      "cell_type": "code",
      "source": [
        "# A = np.random.normal(size=(200,500))\n",
        "# x_opt = np.zeros(500)\n",
        "# x_opt[0:50] = 2 * np.random.binomial(1, 0.5, 50) - 1 + np.random.normal(scale=0.1, size=50)\n",
        "# b = A @ x_opt + np.random.normal(scale=0.5, size=200)\n",
        "\n",
        "# A = np.random.normal(size=(700,500))\n",
        "# x_opt = np.zeros(500)\n",
        "# x_opt[0:50] = 2 * np.random.binomial(1, 0.5, 50) - 1 + np.random.normal(scale=0.1, size=50)\n",
        "# b = A @ x_opt\n",
        "\n",
        "# A = np.random.normal(size=(1000,4000))\n",
        "# x_opt = np.zeros(4000)\n",
        "# x_opt[0:100] = 2 * np.random.binomial(1, 0.5, 100) - 1 + np.random.normal(scale=0.1, size=100)\n",
        "# b = A @ x_opt\n",
        "\n",
        "A = np.random.normal(size=(1000,1000))\n",
        "x_opt = np.zeros(1000)\n",
        "x_opt[0:100] = 2 * np.random.binomial(1, 0.5, 100) - 1 + np.random.normal(scale=0.1, size=100)\n",
        "b = A @ x_opt\n",
        "\n",
        "value_opt = (np.linalg.norm(A @ x_opt - b) ** 2) + np.linalg.norm(x_opt, 1)\n",
        "\n",
        "x0 = np.zeros(1000)"
      ],
      "metadata": {
        "id": "UIgEEiwf2Ulw"
      },
      "execution_count": 37,
      "outputs": []
    },
    {
      "cell_type": "code",
      "source": [
        "x_out, hist_res, hist_norm = FrankWolfe(x0, A, b, 1, 100, 1000)"
      ],
      "metadata": {
        "id": "VMiNqgqC-25A"
      },
      "execution_count": 38,
      "outputs": []
    },
    {
      "cell_type": "code",
      "source": [
        "def soft_thresh(x, lam, L):\n",
        "  return np.sign(x) * np.maximum(np.absolute(x) - lam / L, 0)"
      ],
      "metadata": {
        "id": "Iqjai8ttrq5c"
      },
      "execution_count": 5,
      "outputs": []
    },
    {
      "cell_type": "code",
      "source": [
        "def acceleratedNesterov_first(x0, A, b, lam, R, num_iter):\n",
        "  x = x0.copy()\n",
        "  y = x0.copy()\n",
        "  t = 1\n",
        "  q = 0.7\n",
        "\n",
        "  L = np.real(np.linalg.eig(2 * A.T @ A)[0][0])\n",
        "  alpha = 1/L\n",
        "  # print(L)\n",
        "\n",
        "  # hist = [np.linalg.norm(A @ x - b) ** 2 + lam * np.linalg.norm(x, 1)]\n",
        "  hist_res = [np.linalg.norm(A @ x - b) ** 2]\n",
        "  hist_norm = [np.linalg.norm(x, 1)]\n",
        "\n",
        "  for k in range(num_iter):\n",
        "    x_ = y - alpha * gradf(A, y, b)\n",
        "    D = (t ** 2 - q) ** 2 + 4 * (t ** 2)\n",
        "    t_ = (q - (t ** 2) + np.sqrt(D)) / 2\n",
        "    beta = t * (1 - t) / ((t ** 2) + t_)\n",
        "    y = x_ + beta * (x_ - x) \n",
        "\n",
        "    t = t_\n",
        "    x = x_\n",
        "\n",
        "    # hist.append(np.linalg.norm(A @ x - b) ** 2 + lam * np.linalg.norm(x, 1))\n",
        "    hist_res.append(np.linalg.norm(A @ x - b) ** 2)\n",
        "    hist_norm.append(np.linalg.norm(x, 1))\n",
        "  \n",
        "  return x, hist_res, hist_norm"
      ],
      "metadata": {
        "id": "icuozJEx_XT-"
      },
      "execution_count": 6,
      "outputs": []
    },
    {
      "cell_type": "code",
      "source": [
        "def acceleratedNesterov(x0, A, b, lam, R, num_iter):\n",
        "  x = x0.copy()\n",
        "  y = x0.copy()\n",
        "  t = 1\n",
        "\n",
        "  L = np.real(np.linalg.eig(2 * A.T @ A)[0][0])\n",
        "  # print(L)\n",
        "\n",
        "  # hist = [np.linalg.norm(A @ x - b) ** 2 + lam * np.linalg.norm(x, 1)]\n",
        "  hist_res = [np.linalg.norm(A @ x - b) ** 2]\n",
        "  hist_norm = [np.linalg.norm(x, 1)]\n",
        "\n",
        "  for k in range(num_iter):\n",
        "    x_ = soft_thresh(y - gradf(A, y, b) / L, lam, L)\n",
        "    # print(x_)\n",
        "    t_ = (1 + np.sqrt(1 + 4 * (t ** 2))) / 2\n",
        "    # print(t_)\n",
        "    y = x_ + (t - 1) * (x_ - x) / t_\n",
        "\n",
        "    t = t_\n",
        "    x = x_\n",
        "\n",
        "    # hist.append(np.linalg.norm(A @ x - b) ** 2 + lam * np.linalg.norm(x, 1))\n",
        "    hist_res.append(np.linalg.norm(A @ x - b) ** 2)\n",
        "    hist_norm.append(np.linalg.norm(x, 1))\n",
        "  \n",
        "  return x, hist_res, hist_norm"
      ],
      "metadata": {
        "id": "m6ovZuUGt0ed"
      },
      "execution_count": 7,
      "outputs": []
    },
    {
      "cell_type": "code",
      "source": [
        "x_out_, hist_res_, hist_norm_ = acceleratedNesterov(np.zeros_like(x_out), A, b, 1, 50, 1000)"
      ],
      "metadata": {
        "id": "SZK8RifO1kSP"
      },
      "execution_count": 39,
      "outputs": []
    },
    {
      "cell_type": "code",
      "source": [
        "x_out__, hist_res__, hist_norm__ = acceleratedNesterov_first(np.zeros_like(x_out), A, b, 1, 50, 1000)"
      ],
      "metadata": {
        "id": "h_R_7miQBY-G"
      },
      "execution_count": 40,
      "outputs": []
    },
    {
      "cell_type": "code",
      "source": [
        "print(value_opt)\n",
        "print((np.linalg.norm(A @ x_out - b) ** 2) + np.linalg.norm(x_out, 1))"
      ],
      "metadata": {
        "colab": {
          "base_uri": "https://localhost:8080/"
        },
        "id": "uCt9udlQ3M6o",
        "outputId": "159b3f25-2677-4efb-edf0-73a97dce7811"
      },
      "execution_count": 105,
      "outputs": [
        {
          "output_type": "stream",
          "name": "stdout",
          "text": [
            "96.30041989957064\n",
            "111.90444021111695\n"
          ]
        }
      ]
    },
    {
      "cell_type": "code",
      "source": [
        "plt.plot(hist_res, label=\"Frank-Wolfe\")\n",
        "plt.plot(hist_res_, label=\"Nesterov 1\")\n",
        "plt.plot(hist_res__, label=\"Nesterov 2\")\n",
        "# plt.ylim(0, 500)\n",
        "plt.yscale('log')\n",
        "plt.title(\"$\\|Ax^k-b\\|^2_2$ on log scale\")\n",
        "plt.xlabel(\"iteration\")\n",
        "plt.grid()\n",
        "plt.legend()\n",
        "plt.savefig(\"exp4_res.png\")\n",
        "plt.show()"
      ],
      "metadata": {
        "colab": {
          "base_uri": "https://localhost:8080/",
          "height": 299
        },
        "id": "xcaYwNaE-LEV",
        "outputId": "e159f08c-aa85-43ef-fa10-017d6da05dca"
      },
      "execution_count": 41,
      "outputs": [
        {
          "output_type": "display_data",
          "data": {
            "text/plain": [
              "<Figure size 432x288 with 1 Axes>"
            ],
            "image/png": "[encoded data removed]"
          },
          "metadata": {
            "needs_background": "light"
          }
        }
      ]
    },
    {
      "cell_type": "code",
      "source": [
        "plt.plot(hist_norm, label = 'Frank-Wolfe')\n",
        "plt.plot(hist_norm_, label = 'Nesterov 1')\n",
        "plt.plot(hist_norm__, label = 'Nesterov 2')\n",
        "# plt.ylim(0, 500)\n",
        "# plt.yscale('log')\n",
        "plt.title(\"Solution norm $\\|x^k\\|_1$\")\n",
        "plt.xlabel(\"iteration\")\n",
        "plt.grid()\n",
        "plt.legend()\n",
        "plt.savefig(\"exp4_norm.png\")\n",
        "plt.show()"
      ],
      "metadata": {
        "colab": {
          "base_uri": "https://localhost:8080/",
          "height": 299
        },
        "id": "mEwVz84I3T1v",
        "outputId": "10823a7d-9300-4191-bdf0-aec0cf8749fb"
      },
      "execution_count": 42,
      "outputs": [
        {
          "output_type": "display_data",
          "data": {
            "text/plain": [
              "<Figure size 432x288 with 1 Axes>"
            ],
            "image/png": "[encoded data removed]"
          },
          "metadata": {
            "needs_background": "light"
          }
        }
      ]
    },
    {
      "cell_type": "code",
      "source": [
        "print(np.linalg.norm(x_out - x_opt))\n",
        "print(np.linalg.norm(x_out_ - x_opt))"
      ],
      "metadata": {
        "colab": {
          "base_uri": "https://localhost:8080/"
        },
        "id": "xAqcFFtL5ct3",
        "outputId": "e826a0c6-5419-4295-e8c1-4dbf36303d2a"
      },
      "execution_count": 87,
      "outputs": [
        {
          "output_type": "stream",
          "name": "stdout",
          "text": [
            "3.0376157233446888\n",
            "0.005962102825615369\n"
          ]
        }
      ]
    }
  ]
}